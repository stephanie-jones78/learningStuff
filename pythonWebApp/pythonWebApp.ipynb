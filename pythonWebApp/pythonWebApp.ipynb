{
 "cells": [
  {
   "cell_type": "markdown",
   "id": "86e4133f",
   "metadata": {},
   "source": [
    "# Using [this](https://realpython.com/python-web-applications/) Python Web Application Tutorial\n",
    "Learning how to build a web application with Python to automate scripts for use by end users."
   ]
  },
  {
   "cell_type": "markdown",
   "id": "9324ed0f",
   "metadata": {},
   "source": [
    "## Terminology\n",
    "Term | Definition\n",
    ":-- | :--\n",
    "Web Hosting | Storing code online to run a web application *when choosing a hosting provider you must confirm it support running Python code*\n",
    "Dynamic Web Pages | Change dynamically depending on the user and user's interactions with the web page\n",
    "YAML File | *yet another markup language* a data serialization language that is often used for writing configuration files\n",
    "Flask | A micro web framework written in Python with no database abstraction layer or third party libraries that supports extensions that can add application features as if they were implemented in Flask themselves"
   ]
  },
  {
   "cell_type": "markdown",
   "id": "1022434d",
   "metadata": {},
   "source": [
    "## Web Hosting\n",
    "For this tutorial using [Google App Engine](https://cloud.google.com/appengine/docs/standard/python3) for web hosting. It is free :)\n",
    "1. Go to [this](https://cloud.google.com/sdk/docs/install) site.\n",
    "2. Run `uname -m` in the command line to determine which download to select. \n",
    "3. Download Google Cloud SDK (instructions are for MAC, check instructions for other operating systems)\n",
    ">The Google Cloud SDK installation also includes a command-line program called gcloud, which you’ll later use to deploy your web app.\n",
    "\n",
    "4. Move the program folder from downloads to your root folder by running `./google-cloud-sdk/install.sh\n",
    "` from the command line\n",
    "5. Run the install script from the command line `./google-cloud-sdk/install.sh --screen-reader=true`\n",
    "6. Open a new terminal so that the changes take effect. \n",
    "7. To initalize the gcloud CLI run `./google-cloud-sdk/bin/gcloud init` from the command line.\n",
    "8. Verify successful installation by running `gcloud --version` in the command line."
   ]
  },
  {
   "cell_type": "markdown",
   "id": "b225a05e",
   "metadata": {},
   "source": [
    "## Setting up Project\n",
    "1. Create project folder `hello-app`\n",
    "2. You'll need 3 files inside this folder:\n",
    "    1. `main.py`: contains python code wrapped in minimal implementation of the Flask web framework\n",
    "    2. `requirements.txt`: lists all the dependencies your code needs to work properly\n",
    "    3. `app.yaml`: helps Google App Engine decide which settings to use on its server"
   ]
  }
 ],
 "metadata": {
  "kernelspec": {
   "display_name": "Python 3",
   "language": "python",
   "name": "python3"
  },
  "language_info": {
   "codemirror_mode": {
    "name": "ipython",
    "version": 3
   },
   "file_extension": ".py",
   "mimetype": "text/x-python",
   "name": "python",
   "nbconvert_exporter": "python",
   "pygments_lexer": "ipython3",
   "version": "3.8.8"
  }
 },
 "nbformat": 4,
 "nbformat_minor": 5
}
