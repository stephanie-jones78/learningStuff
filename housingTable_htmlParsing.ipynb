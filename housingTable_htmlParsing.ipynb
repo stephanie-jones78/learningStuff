{
 "cells": [
  {
   "cell_type": "markdown",
   "id": "7b9834be",
   "metadata": {},
   "source": [
    "# Inspired by [this](https://www.visualcapitalist.com/mapped-the-salary-you-need-to-buy-a-home-in-50-u-s-cities/) Visual Capitalist Viz...\n",
    "Data acquired from [HSH](https://www.hsh.com/finance/mortgage/salary-home-buying-25-cities.html#all_metro_areas) U.S. Metro Area Housing Data"
   ]
  },
  {
   "cell_type": "code",
   "execution_count": null,
   "id": "b6953338",
   "metadata": {},
   "outputs": [],
   "source": []
  }
 ],
 "metadata": {
  "kernelspec": {
   "display_name": "Python 3",
   "language": "python",
   "name": "python3"
  },
  "language_info": {
   "codemirror_mode": {
    "name": "ipython",
    "version": 3
   },
   "file_extension": ".py",
   "mimetype": "text/x-python",
   "name": "python",
   "nbconvert_exporter": "python",
   "pygments_lexer": "ipython3",
   "version": "3.8.8"
  }
 },
 "nbformat": 4,
 "nbformat_minor": 5
}
