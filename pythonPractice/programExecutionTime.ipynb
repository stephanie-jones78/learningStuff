{
 "cells": [
  {
   "cell_type": "markdown",
   "id": "06bdae55",
   "metadata": {},
   "source": [
    "# Calculating the Execution Time of a Python Program\n",
    "The execution or running time of the program indicates how quickly the output is delivered based on the algorithm you used to solve the problem. To calculate the execution time of the program, we need to calculate the time taken by the program from its initiation to the final result.\n",
    "1. Store initiation time into variable.\n",
    "2. Execute program.\n",
    "3. Store end time into another variable.\n",
    "4. Subtract end time from start time.\n",
    "\n",
    "<p>It is important to calculate the execution time when working on a large project. When working on a large project, we have several approaches in mind. The best should be the one that takes the shortest execution time in all scenarios.\n",
    "- Libraries used: [time](https://docs.python.org/3/library/time.html)\n",
    "- Reference link: [The Clever Programmer](https://thecleverprogrammer.com/2022/02/10/execution-time-of-a-python-program/)</p>"
   ]
  },
  {
   "cell_type": "code",
   "execution_count": 1,
   "id": "915167d9",
   "metadata": {},
   "outputs": [],
   "source": [
    "# importing time python library\n",
    "from time import time"
   ]
  },
  {
   "cell_type": "code",
   "execution_count": 2,
   "id": "910ea92b",
   "metadata": {},
   "outputs": [
    {
     "data": {
      "text/plain": [
       "1660463462.7068229"
      ]
     },
     "execution_count": 2,
     "metadata": {},
     "output_type": "execute_result"
    }
   ],
   "source": [
    "# looking at the function time()\n",
    "time()"
   ]
  },
  {
   "cell_type": "markdown",
   "id": "f1f2291b",
   "metadata": {},
   "source": [
    "## `time()`\n",
    "The `time()` function returns the number of seconds since the **epoch** as a floating point value. \n",
    ">The **epoch** value refers to the point when time started in the Unix system, **Jan 1, 1970, 12:00am**"
   ]
  },
  {
   "cell_type": "code",
   "execution_count": 11,
   "id": "4878d662",
   "metadata": {},
   "outputs": [
    {
     "data": {
      "text/plain": [
       "1660464003.2542531"
      ]
     },
     "execution_count": 11,
     "metadata": {},
     "output_type": "execute_result"
    }
   ],
   "source": [
    "# creating variable for start time\n",
    "start = time()\n",
    "start"
   ]
  },
  {
   "cell_type": "code",
   "execution_count": 12,
   "id": "f66b0ff6",
   "metadata": {},
   "outputs": [
    {
     "data": {
      "text/plain": [
       "'Stephanie Jones'"
      ]
     },
     "execution_count": 12,
     "metadata": {},
     "output_type": "execute_result"
    }
   ],
   "source": [
    "# python program to create initials\n",
    "name = 'Stephanie Jones'\n",
    "name"
   ]
  },
  {
   "cell_type": "code",
   "execution_count": 14,
   "id": "815245d9",
   "metadata": {},
   "outputs": [
    {
     "data": {
      "text/plain": [
       "['Stephanie', 'Jones']"
      ]
     },
     "execution_count": 14,
     "metadata": {},
     "output_type": "execute_result"
    }
   ],
   "source": [
    "# splitting name string into list of separate string, delimeter = space\n",
    "stringList = name.split()\n",
    "stringList"
   ]
  },
  {
   "cell_type": "code",
   "execution_count": 22,
   "id": "bb445798",
   "metadata": {},
   "outputs": [
    {
     "data": {
      "text/plain": [
       "'S.J.'"
      ]
     },
     "execution_count": 22,
     "metadata": {},
     "output_type": "execute_result"
    }
   ],
   "source": [
    "# creating empty string for for loop to grab the first letter of each string\n",
    "acronym = ''\n",
    "\n",
    "for namePart in stringList:\n",
    "    acronym = acronym + str(namePart[0].upper() + '.')\n",
    "    \n",
    "acronym"
   ]
  },
  {
   "cell_type": "code",
   "execution_count": 23,
   "id": "f101530d",
   "metadata": {},
   "outputs": [],
   "source": [
    "# putting for loop into function\n",
    "def createAcronym(name):\n",
    "    '''\n",
    "    This function takes in a string of text and returns the acronym\n",
    "    '''\n",
    "    listOfWords = name.split()\n",
    "    \n",
    "    acronym = ''\n",
    "    for word in listOfWords:\n",
    "        acronym = acronym + str(word[0].upper() + '.')\n",
    "        \n",
    "    return acronym"
   ]
  },
  {
   "cell_type": "code",
   "execution_count": 24,
   "id": "a31481e0",
   "metadata": {},
   "outputs": [
    {
     "data": {
      "text/plain": [
       "'S.N.J.'"
      ]
     },
     "execution_count": 24,
     "metadata": {},
     "output_type": "execute_result"
    }
   ],
   "source": [
    "createAcronym('Stephanie Nicole Jones')"
   ]
  },
  {
   "cell_type": "code",
   "execution_count": 25,
   "id": "7263993f",
   "metadata": {},
   "outputs": [
    {
     "data": {
      "text/plain": [
       "1660464683.482782"
      ]
     },
     "execution_count": 25,
     "metadata": {},
     "output_type": "execute_result"
    }
   ],
   "source": [
    "# getting end time\n",
    "end = time()\n",
    "end"
   ]
  },
  {
   "cell_type": "code",
   "execution_count": 28,
   "id": "2026eaec",
   "metadata": {},
   "outputs": [
    {
     "data": {
      "text/plain": [
       "1.8895236909389497"
      ]
     },
     "execution_count": 28,
     "metadata": {},
     "output_type": "execute_result"
    }
   ],
   "source": [
    "# getting difference between start and end times to calculate execution\n",
    "(end - start)/360"
   ]
  },
  {
   "cell_type": "markdown",
   "id": "cc8bfcf2",
   "metadata": {},
   "source": [
    "## Adding execution time into function"
   ]
  },
  {
   "cell_type": "code",
   "execution_count": 29,
   "id": "ab081529",
   "metadata": {},
   "outputs": [],
   "source": [
    "# putting for loop into function\n",
    "def createAcronym(name):\n",
    "    '''\n",
    "    This function takes in a string of text and returns the acronym\n",
    "    '''\n",
    "    start = time()\n",
    "    \n",
    "    listOfWords = name.split()\n",
    "    \n",
    "    acronym = ''\n",
    "    for word in listOfWords:\n",
    "        acronym = acronym + str(word[0].upper() + '.')\n",
    "        \n",
    "    end = time()\n",
    "    \n",
    "    #execution time print statement\n",
    "    print(f'Execution time: {end - start}')\n",
    "    \n",
    "    return acronym"
   ]
  },
  {
   "cell_type": "code",
   "execution_count": 30,
   "id": "a8f861fb",
   "metadata": {},
   "outputs": [
    {
     "name": "stdout",
     "output_type": "stream",
     "text": [
      "Execution time: 7.152557373046875e-06\n"
     ]
    },
    {
     "data": {
      "text/plain": [
       "'S.J.'"
      ]
     },
     "execution_count": 30,
     "metadata": {},
     "output_type": "execute_result"
    }
   ],
   "source": [
    "createAcronym('Stephanie Jones')"
   ]
  },
  {
   "cell_type": "code",
   "execution_count": 31,
   "id": "90a6c484",
   "metadata": {},
   "outputs": [
    {
     "name": "stdout",
     "output_type": "stream",
     "text": [
      "Execution time: 0.0002799034118652344\n"
     ]
    },
    {
     "data": {
      "text/plain": [
       "'T.E.O.R.T.O.T.P.I.H.Q.T.O.I.D.B.O.T.A.Y.U.T.S.T.P.T.C.T.E.T.O.T.P.W.N.T.C.T.T.T.B.T.P.F.I.I.T.T.F.R.I.I.I.T.C.T.E.T.W.W.O.A.L.P.W.W.O.A.L.P.W.H.S.A.I.M.T.B.S.B.T.O.T.T.T.S.E.T.I.A.S.'"
      ]
     },
     "execution_count": 31,
     "metadata": {},
     "output_type": "execute_result"
    }
   ],
   "source": [
    "createAcronym('The execution or running time of the program indicates how quickly the output is delivered based on the algorithm you used to solve the problem. To calculate the execution time of the program, we need to calculate the time taken by the program from its initiation to the final result. It is important to calculate the execution time when working on a large project. When working on a large project, we have several approaches in mind. The best should be the one that takes the shortest execution time in all scenarios.')"
   ]
  },
  {
   "cell_type": "code",
   "execution_count": null,
   "id": "d8cff4dd",
   "metadata": {},
   "outputs": [],
   "source": []
  }
 ],
 "metadata": {
  "kernelspec": {
   "display_name": "Python 3",
   "language": "python",
   "name": "python3"
  },
  "language_info": {
   "codemirror_mode": {
    "name": "ipython",
    "version": 3
   },
   "file_extension": ".py",
   "mimetype": "text/x-python",
   "name": "python",
   "nbconvert_exporter": "python",
   "pygments_lexer": "ipython3",
   "version": "3.8.8"
  }
 },
 "nbformat": 4,
 "nbformat_minor": 5
}
