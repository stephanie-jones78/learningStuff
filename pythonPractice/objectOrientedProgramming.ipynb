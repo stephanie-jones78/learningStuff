{
 "cells": [
  {
   "cell_type": "markdown",
   "id": "e62afaf0",
   "metadata": {},
   "source": [
    "# Linkedin Learning Course [Python Object-Oriented Programming](https://www.linkedin.com/learning/python-object-oriented-programming/what-you-should-know?autoSkip=true&autoplay=true&resume=false)\n",
    "\n",
    "## Object Oriented Programming Principles\n",
    "- Python does not require objects or classes (even though everything within Python is a class)\n",
    "- As programs become more complex it becomes increasingly difficult to keep things organized and ensure one part of your program isn't having unintended consequences on another part of your program\n",
    "- Object Oriented Prorgamming organizes and structures code\n",
    "    - Reduces bugs\n",
    "    - Ensures that only the parts of the program that access to the data have it\n",
    "    - Promotes building of modular programs, minimizing dependencies\n",
    "## Terms\n",
    "- `class` a blueprint or template that describes how to create objects of a particular type\n",
    "- `method` referring to a regular function that is a part of a class\n",
    "- `attributes` refer to variables or properties that are part of a class\n",
    "- `object` a specific instance of a class or a type\n",
    "- `inheritance` how you can arrange classes which inherit capabilities from another class\n",
    "- `composition` building complex objects out of other objects"
   ]
  },
  {
   "cell_type": "markdown",
   "id": "84058ecf",
   "metadata": {},
   "source": [
    "## Creating a Basic Class Definition in Python"
   ]
  },
  {
   "cell_type": "code",
   "execution_count": 4,
   "id": "87ccaeb5",
   "metadata": {},
   "outputs": [],
   "source": [
    "# basic class definition\n",
    "class Ticker:  # only need parenthsis if indicating class will inherit another class --> class Book()\n",
    "    pass "
   ]
  },
  {
   "cell_type": "markdown",
   "id": "c78f31f0",
   "metadata": {},
   "source": [
    "### About `pass`\n",
    ">**Empty code is not allowed in loops, function definitions, class definitions, or in if statements.** When the pass statement is executed, nothing happens, but you avoid getting an error when empty code is not allowed. The pass statement is used as a placeholder for future code. "
   ]
  },
  {
   "cell_type": "code",
   "execution_count": 5,
   "id": "e6ce8151",
   "metadata": {},
   "outputs": [],
   "source": [
    "# creating an instance of a class\n",
    "t1 = Ticker"
   ]
  },
  {
   "cell_type": "markdown",
   "id": "d5a77049",
   "metadata": {},
   "source": [
    "### We just created a book *object*"
   ]
  },
  {
   "cell_type": "code",
   "execution_count": 10,
   "id": "a4362e46",
   "metadata": {},
   "outputs": [],
   "source": [
    "# class definition with function\n",
    "class Book:\n",
    "    def __init__(self, title):\n",
    "        \n",
    "        # creating a new attribute on the object called title and its being used to hold the title of the book\n",
    "        self.title = title"
   ]
  },
  {
   "cell_type": "markdown",
   "id": "96b2ca7d",
   "metadata": {},
   "source": [
    "### About the initializing function\n",
    "> `__init__()` is a special function for working with classes. It initializes the new function with information and it is called before any other functions you've defined in the class. **The `__init__()` function is called when the instance is created and ready to be initialized.**"
   ]
  },
  {
   "cell_type": "code",
   "execution_count": 11,
   "id": "a25f493f",
   "metadata": {},
   "outputs": [],
   "source": [
    "# calling the book object\n",
    "b1 = Book('Brave New World')\n",
    "b2 = Book('War and Peace')"
   ]
  },
  {
   "cell_type": "code",
   "execution_count": 13,
   "id": "a8af94bf",
   "metadata": {},
   "outputs": [
    {
     "name": "stdout",
     "output_type": "stream",
     "text": [
      "<__main__.Book object at 0x7fc641978dc0>\n",
      "Brave New World\n"
     ]
    }
   ],
   "source": [
    "# printing the class and property\n",
    "print(b1)\n",
    "print(b1.title)"
   ]
  },
  {
   "cell_type": "markdown",
   "id": "08d3c862",
   "metadata": {},
   "source": [
    "### What's happening?\n",
    ">printed the object\n",
    ">printing the "
   ]
  },
  {
   "cell_type": "markdown",
   "id": "22d32ad9",
   "metadata": {},
   "source": [
    "## Creating Instance Methods and Attributes for Our Class"
   ]
  },
  {
   "cell_type": "code",
   "execution_count": 22,
   "id": "500665b9",
   "metadata": {},
   "outputs": [],
   "source": [
    "# filling out the init method, adding arguments\n",
    "class Book:\n",
    "    def __init__(self, title, author, pages, price):\n",
    "        self.title = title\n",
    "        self.author = author\n",
    "        self.pages = pages\n",
    "        self.price = price\n",
    "        \n",
    "    # adding an instance method\n",
    "    def get_price(self):\n",
    "        return self.price"
   ]
  },
  {
   "cell_type": "markdown",
   "id": "c2ec42e5",
   "metadata": {},
   "source": [
    "Each one of the values is called instance attributes."
   ]
  },
  {
   "cell_type": "code",
   "execution_count": 23,
   "id": "eac5d58f",
   "metadata": {},
   "outputs": [],
   "source": [
    "# creating some book instances\n",
    "b1 = Book(\"War and Peace\", \"Leo Tolstoy\", 1225, 39.95)\n",
    "b2 = Book(\"The Catcher and the Rye\", \"JD Salinger\", 234, 29.95)"
   ]
  },
  {
   "cell_type": "code",
   "execution_count": 24,
   "id": "65b1775e",
   "metadata": {},
   "outputs": [
    {
     "name": "stdout",
     "output_type": "stream",
     "text": [
      "<__main__.Book object at 0x7fc64187be80>\n",
      "39.95\n"
     ]
    }
   ],
   "source": [
    "# printing the price of the book\n",
    "print(b1)\n",
    "print(b1.get_price())"
   ]
  },
  {
   "cell_type": "code",
   "execution_count": 41,
   "id": "6a5b67a9",
   "metadata": {},
   "outputs": [],
   "source": [
    "# setting a discount\n",
    "class Book:\n",
    "    def __init__(self, title, author, pages, price):\n",
    "        self.title = title\n",
    "        self.author = author\n",
    "        self.pages = pages\n",
    "        self.price = price\n",
    "        \n",
    "    def set_discount(self, amount):\n",
    "        self._discount = amount\n",
    "        \n",
    "#     # adding an instance method\n",
    "#     def get_price(self):\n",
    "#         if hasattr(self, \"_discount\"): # checking to see if the discount object is present\n",
    "#             return self.price - (self.price * self._discount)\n",
    "#         else:\n",
    "#             return self.price\n",
    "        \n",
    "    def getPrice(self):\n",
    "        if hasattr(self, \"_discount\"):\n",
    "            return self.price - (self.price * self._discount)\n",
    "        else:\n",
    "            return self.price\n",
    "        \n"
   ]
  },
  {
   "cell_type": "code",
   "execution_count": 42,
   "id": "3946bf55",
   "metadata": {},
   "outputs": [
    {
     "name": "stdout",
     "output_type": "stream",
     "text": [
      "29.95\n"
     ]
    }
   ],
   "source": [
    "# printing the price of b2\n",
    "print(b2.get_price())"
   ]
  },
  {
   "cell_type": "code",
   "execution_count": 43,
   "id": "02abf50f",
   "metadata": {},
   "outputs": [
    {
     "ename": "AttributeError",
     "evalue": "'Book' object has no attribute 'set_discount'",
     "output_type": "error",
     "traceback": [
      "\u001b[0;31m-------------------------------------------------------------\u001b[0m",
      "\u001b[0;31mAttributeError\u001b[0m              Traceback (most recent call last)",
      "\u001b[0;32m<ipython-input-43-1295eb8f4b4c>\u001b[0m in \u001b[0;36m<module>\u001b[0;34m\u001b[0m\n\u001b[1;32m      1\u001b[0m \u001b[0;31m# setting the discount\u001b[0m\u001b[0;34m\u001b[0m\u001b[0;34m\u001b[0m\u001b[0;34m\u001b[0m\u001b[0m\n\u001b[0;32m----> 2\u001b[0;31m \u001b[0mb2\u001b[0m\u001b[0;34m.\u001b[0m\u001b[0mset_discount\u001b[0m\u001b[0;34m(\u001b[0m\u001b[0;36m0.25\u001b[0m\u001b[0;34m)\u001b[0m\u001b[0;34m\u001b[0m\u001b[0;34m\u001b[0m\u001b[0m\n\u001b[0m",
      "\u001b[0;31mAttributeError\u001b[0m: 'Book' object has no attribute 'set_discount'"
     ]
    }
   ],
   "source": [
    "# setting the discount\n",
    "b2.set_discount(0.25)"
   ]
  },
  {
   "cell_type": "markdown",
   "id": "370e3fbb",
   "metadata": {},
   "source": [
    "#### ?\n",
    "Copying directly from exercise file to see if this works. "
   ]
  },
  {
   "cell_type": "code",
   "execution_count": 44,
   "id": "f645c9d9",
   "metadata": {},
   "outputs": [
    {
     "name": "stdout",
     "output_type": "stream",
     "text": [
      "39.95\n",
      "29.95\n",
      "22.4625\n",
      "0.25\n"
     ]
    }
   ],
   "source": [
    "class Book:\n",
    "    # the \"init\" function is called when the instance is\n",
    "    # created and ready to be initialized\n",
    "    def __init__(self, title, pages, author, price):\n",
    "        self.title = title\n",
    "        self.pages = pages\n",
    "        self.author = author\n",
    "        self.price = price\n",
    "        self.__secret = \"This is a secret attribute\"\n",
    "\n",
    "    # instance methods are defined like any other function, with the\n",
    "    # first argument as the object (\"self\" is just a convention)\n",
    "    def setDiscount(self, amount):\n",
    "        self._discount = amount\n",
    "\n",
    "    def getPrice(self):\n",
    "        if hasattr(self, \"_discount\"):\n",
    "            return self.price - (self.price * self._discount)\n",
    "        else:\n",
    "            return self.price\n",
    "\n",
    "\n",
    "# create some book instances\n",
    "b1 = Book(\"War and Peace\", \"Leo Tolstoy\", 1225, 39.95)\n",
    "b2 = Book(\"The Catcher in the Rye\", \"JD Salinger\", 234, 29.95)\n",
    "\n",
    "# print the price of book1\n",
    "print(b1.getPrice())\n",
    "\n",
    "# try setting the discount\n",
    "print(b2.getPrice())\n",
    "b2.setDiscount(0.25)\n",
    "print(b2.getPrice())\n",
    "\n",
    "# properties with double underscores are hidden by the interpreter\n",
    "print(b2._discount)\n",
    "# print(b2.__secret)\n",
    "# print(b2._Book__secret)"
   ]
  },
  {
   "cell_type": "code",
   "execution_count": null,
   "id": "35dbcca0",
   "metadata": {},
   "outputs": [],
   "source": []
  }
 ],
 "metadata": {
  "kernelspec": {
   "display_name": "Python 3",
   "language": "python",
   "name": "python3"
  },
  "language_info": {
   "codemirror_mode": {
    "name": "ipython",
    "version": 3
   },
   "file_extension": ".py",
   "mimetype": "text/x-python",
   "name": "python",
   "nbconvert_exporter": "python",
   "pygments_lexer": "ipython3",
   "version": "3.8.8"
  }
 },
 "nbformat": 4,
 "nbformat_minor": 5
}
