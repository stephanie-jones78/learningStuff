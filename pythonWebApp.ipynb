{
 "cells": [
  {
   "cell_type": "markdown",
   "id": "c0106108",
   "metadata": {},
   "source": [
    "# Using [this](https://realpython.com/python-web-applications/) Python Web Application Tutorial\n",
    "Learning how to build a web application with Python to automate scripts for use by end users."
   ]
  },
  {
   "cell_type": "markdown",
   "id": "eb09e376",
   "metadata": {},
   "source": [
    "## Things I Learned\n",
    "`#thing` | What I learned about `#thing`...\n",
    ":-- | :--\n",
    "Web Hosting | Storing code online to run a web application *when choosing a hosting provider you must confirm it support running Python code*\n",
    "Dynamic Web Pages | Change dynamically depending on the user and user's interactions with the web page\n",
    "YAML File | *yet another markup language* a data serialization language that is often used for writing configuration files\n",
    "Flask | A micro web framework written in Python with no database abstraction layer or third party libraries that supports extensions that can add application features as if they were implemented in Flask themselves\n",
    "`__name__` | A special Python variable used in a script to determine whether you want to run a script or just import from it"
   ]
  },
  {
   "cell_type": "markdown",
   "id": "452ba8c1",
   "metadata": {},
   "source": [
    "## Web Hosting\n",
    "For this tutorial using [Google App Engine](https://cloud.google.com/appengine/docs/standard/python3) for web hosting. It is free :)\n",
    "1. Go to [this](https://cloud.google.com/sdk/docs/install) site.\n",
    "2. Run `uname -m` in the command line to determine which download to select. \n",
    "3. Download Google Cloud SDK (instructions are for MAC, check instructions for other operating systems)\n",
    ">The Google Cloud SDK installation also includes a command-line program called gcloud, which you’ll later use to deploy your web app.\n",
    "\n",
    "4. Move the program folder from downloads to your root folder by running `./google-cloud-sdk/install.sh\n",
    "` from the command line\n",
    "5. Run the install script from the command line `./google-cloud-sdk/install.sh --screen-reader=true`\n",
    "6. Open a new terminal so that the changes take effect. \n",
    "7. To initalize the gcloud CLI run `./google-cloud-sdk/bin/gcloud init` from the command line.\n",
    "8. Verify successful installation by running `gcloud --version` in the command line."
   ]
  },
  {
   "cell_type": "markdown",
   "id": "25e37ccd",
   "metadata": {},
   "source": [
    "## Setting up Project\n",
    "1. Create project folder `hello-app`\n",
    "2. You'll need 3 files inside this folder:\n",
    "    1. `main.py`: contains python code wrapped in minimal implementation of the Flask web framework\n",
    "    2. `requirements.txt`: lists all the dependencies your code needs to work properly\n",
    "    3. `app.yaml`: helps Google App Engine decide which settings to use on its server\n",
    "\n",
    ">Create these files from command line by running `touch[fileName]`"
   ]
  },
  {
   "cell_type": "markdown",
   "id": "4c54eee0",
   "metadata": {},
   "source": [
    "## `main.py` File Contents\n",
    "This is the file that Flask uses to deliver your content. "
   ]
  },
  {
   "cell_type": "code",
   "execution_count": 1,
   "id": "8a3f3382",
   "metadata": {},
   "outputs": [],
   "source": [
    "# importing flask\n",
    "from flask import Flask"
   ]
  },
  {
   "cell_type": "code",
   "execution_count": 2,
   "id": "86c4c1f2",
   "metadata": {},
   "outputs": [],
   "source": [
    "# looked up what name means, but not sure what it does here in this line of code?\n",
    "app = Flask(__name__)"
   ]
  },
  {
   "cell_type": "code",
   "execution_count": 10,
   "id": "e425bc6d",
   "metadata": {
    "scrolled": true
   },
   "outputs": [],
   "source": [
    "# # not sure what the @ symbol is doing here or what the function?/method? .route() is doing here?\n",
    "# @app.route('/')\n",
    "\n",
    "# # assuming this is the function that will print a confirmation that our program is running correctly\n",
    "# def index():\n",
    "#     '''\n",
    "#     This function returns the confirmation string.\n",
    "#     '''\n",
    "#     return 'Congratulations, it is a web app!'"
   ]
  },
  {
   "cell_type": "markdown",
   "id": "c0db8b5e",
   "metadata": {},
   "source": [
    "> Error: `AssertionError: View function mapping is overwriting an existing endpoint function: index`<br>\n",
    "> Line of code: `----> 5 def index():`"
   ]
  },
  {
   "cell_type": "code",
   "execution_count": 9,
   "id": "0f4ef501",
   "metadata": {},
   "outputs": [],
   "source": [
    "# guess it all has to be run together to work, not sure why?\n",
    "\n",
    "# looked up what name means, but not sure what it does here in this line of code? according to the tutorial\n",
    "#     this creates an instance of the flask app\n",
    "app = Flask(__name__)\n",
    "\n",
    "# not sure what the @ symbol is doing here or what the function?/method? .route() is doing here? According to the\n",
    "#     tutorial, this is a Python decorator (?) that Flask uses to connect URL endpoints with the code contained\n",
    "#     in functions. The argument '/' defines the URL's path component --> / = root path in this case\n",
    "@app.route('/')\n",
    "\n",
    "# assuming this is the function that will print a confirmation that our program is running correctly. According\n",
    "#     to the tutorial, the index() function defines what should be executed if the defined URL endpoint is \n",
    "#     requested by a user. And its return value determines what a user will see when they load the page.\n",
    "def index():\n",
    "    '''\n",
    "    Prints what user will see when they load the page defined by the above endpoint.\n",
    "    '''\n",
    "    return 'Congratulations, it is a web app!'"
   ]
  },
  {
   "cell_type": "markdown",
   "id": "659bacfd",
   "metadata": {},
   "source": [
    "##### More on `main.py` file:\n",
    "If a user types the base URL of your web app into their browser, the Flask runs `index()` and the user sees the returned text. You can render more complex content and you can also create more than one function so that users can visit different URL endpoints in your app to receive different responses. "
   ]
  },
  {
   "cell_type": "markdown",
   "id": "465db68c",
   "metadata": {},
   "source": [
    "## `requirements.txt` Contents\n",
    "Since Flask is the only dependency of this project, that’s all you need to specify. If app has other dependencies then those will need to be specified here as well. \n",
    ">`Flask==2.1.2`\n",
    "\n",
    "Google App Engine will use `requirements.txt` file to install the necessary Python dependencies for your project when setting it up on the server."
   ]
  },
  {
   "cell_type": "markdown",
   "id": "15a5fa3a",
   "metadata": {},
   "source": [
    "# `app.yaml` Contents\n",
    "This file helps Google App Engine set up the right server environment for your code. This file also requires only one line, which defines the Python run time.\n",
    ">`runtime: python38`\n",
    "\n",
    "This line of code clarifies that the right runtime for your Python code is Python 3.8. This is good enough for Google App Engine to do the necessary setup on its servers. \n",
    "##### More on `app.yaml`\n",
    "You can use Google App Engine’s app.yaml file for additional setup, such as: \n",
    "- adding environment variables to your application.\n",
    "- defining the path to static content for your app, such as images, CSS or JavaScript files. \n",
    "This tutorial won’t go into these additional settings, but you can consult Google App Engine’s documentation on the [app.yaml Configuration File](https://cloud.google.com/appengine/docs/standard/python3/config/appref) if you want to add such functionality."
   ]
  },
  {
   "cell_type": "markdown",
   "id": "bdd027c4",
   "metadata": {},
   "source": [
    "## Test\n",
    "These nine lines of code complete the necessary setup for this app. Your project is now ready for deployment. However, it’s good practice to test your code before putting it into production so you can catch potential errors. Next, you’ll check whether everything works as expected locally before deploying your code to the Internet.\n",
    "\n",
    "<hr>\n",
    "\n",
    "Flask comes packaged with a development web server. You can use this development server to double-check that your code works as expected. To be able to run the Flask development server locally, you need to complete two steps. Google App Engine will do the same steps on its servers once you deploy your code:\n",
    "1. Set up a virtual environment.\n",
    "2. Install the flask package.\n",
    "To set up a Python 3 virtual environment, navigate to your project folder on your terminal and type the following command: `python3 -m venv venv`. <br>\n",
    "This will create a new virtual environment named venv using the version of Python 3 that you have installed on your system. Next, you need to activate the virtual environment by sourcing the activation script: `source venv/bin/activate`<br>\n",
    "After executing this command, your prompt will change to indicate that you’re now operating from within the virtual environment. After you successfully set up and activate your virtual environment, you’re ready to install Flask: `python3 -m pip install -r requirements.txt`. This command fetches all packages listed in requirements.txt from PyPI and installs them in your virtual environment. In this case, the only package installed will be Flask.\n",
    "\n",
    "<hr>\n",
    "\n",
    "Wait for the installation to complete, then open up `main.py` and add the following two lines of code at the bottom of the file:<br>\n",
    "`if __name__ == \"__main__\":\n",
    "    app.run(host=\"127.0.0.1\", port=8080, debug=True)`\n",
    "    \n",
    "These two lines tell Python to start Flask’s development server when the script is executed from the command line. It’ll be used only when you run the script locally. When you deploy the code to Google App Engine, a professional web server process, such as Gunicorn, will serve the app instead. \n",
    "<hr>\n",
    "\n",
    "You can now start Flask’s development server and interact with your Python app in your browser. To do so, you need to run the Python script that starts the Flask app by typing the following command: `python3 main.py`"
   ]
  },
  {
   "cell_type": "code",
   "execution_count": null,
   "id": "0eb93648",
   "metadata": {},
   "outputs": [],
   "source": []
  },
  {
   "cell_type": "code",
   "execution_count": null,
   "id": "1d650d82",
   "metadata": {},
   "outputs": [],
   "source": []
  }
 ],
 "metadata": {
  "kernelspec": {
   "display_name": "Python 3",
   "language": "python",
   "name": "python3"
  },
  "language_info": {
   "codemirror_mode": {
    "name": "ipython",
    "version": 3
   },
   "file_extension": ".py",
   "mimetype": "text/x-python",
   "name": "python",
   "nbconvert_exporter": "python",
   "pygments_lexer": "ipython3",
   "version": "3.8.8"
  }
 },
 "nbformat": 4,
 "nbformat_minor": 5
}
